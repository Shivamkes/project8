{
 "cells": [
  {
   "cell_type": "code",
   "execution_count": 1,
   "metadata": {},
   "outputs": [],
   "source": [
    "import pandas as pd\n",
    "import numpy as np\n",
    "import matplotlib.pyplot as plt\n",
    "%matplotlib inline\n",
    "import seaborn as sns\n",
    "sns.set()"
   ]
  },
  {
   "cell_type": "code",
   "execution_count": 2,
   "metadata": {},
   "outputs": [],
   "source": [
    "df = pd.read_csv('final_data.csv')"
   ]
  },
  {
   "cell_type": "code",
   "execution_count": 3,
   "metadata": {},
   "outputs": [
    {
     "data": {
      "text/html": [
       "<div>\n",
       "<style scoped>\n",
       "    .dataframe tbody tr th:only-of-type {\n",
       "        vertical-align: middle;\n",
       "    }\n",
       "\n",
       "    .dataframe tbody tr th {\n",
       "        vertical-align: top;\n",
       "    }\n",
       "\n",
       "    .dataframe thead th {\n",
       "        text-align: right;\n",
       "    }\n",
       "</style>\n",
       "<table border=\"1\" class=\"dataframe\">\n",
       "  <thead>\n",
       "    <tr style=\"text-align: right;\">\n",
       "      <th></th>\n",
       "      <th>Unnamed: 0</th>\n",
       "      <th>stars</th>\n",
       "      <th>text</th>\n",
       "    </tr>\n",
       "  </thead>\n",
       "  <tbody>\n",
       "    <tr>\n",
       "      <th>0</th>\n",
       "      <td>0</td>\n",
       "      <td>1.0</td>\n",
       "      <td>Total bill for this horrible service? Over $8G...</td>\n",
       "    </tr>\n",
       "    <tr>\n",
       "      <th>1</th>\n",
       "      <td>1</td>\n",
       "      <td>5.0</td>\n",
       "      <td>I *adore* Travis at the Hard Rock's new Kelly ...</td>\n",
       "    </tr>\n",
       "    <tr>\n",
       "      <th>2</th>\n",
       "      <td>2</td>\n",
       "      <td>5.0</td>\n",
       "      <td>I have to say that this office really has it t...</td>\n",
       "    </tr>\n",
       "    <tr>\n",
       "      <th>3</th>\n",
       "      <td>3</td>\n",
       "      <td>5.0</td>\n",
       "      <td>Went in for a lunch. Steak sandwich was delici...</td>\n",
       "    </tr>\n",
       "    <tr>\n",
       "      <th>4</th>\n",
       "      <td>4</td>\n",
       "      <td>1.0</td>\n",
       "      <td>Today was my second out of three sessions I ha...</td>\n",
       "    </tr>\n",
       "  </tbody>\n",
       "</table>\n",
       "</div>"
      ],
      "text/plain": [
       "   Unnamed: 0  stars                                               text\n",
       "0           0    1.0  Total bill for this horrible service? Over $8G...\n",
       "1           1    5.0  I *adore* Travis at the Hard Rock's new Kelly ...\n",
       "2           2    5.0  I have to say that this office really has it t...\n",
       "3           3    5.0  Went in for a lunch. Steak sandwich was delici...\n",
       "4           4    1.0  Today was my second out of three sessions I ha..."
      ]
     },
     "execution_count": 3,
     "metadata": {},
     "output_type": "execute_result"
    }
   ],
   "source": [
    "df.head()"
   ]
  },
  {
   "cell_type": "code",
   "execution_count": 4,
   "metadata": {},
   "outputs": [],
   "source": [
    "df = df.drop(labels='Unnamed: 0', axis=1)"
   ]
  },
  {
   "cell_type": "code",
   "execution_count": 5,
   "metadata": {},
   "outputs": [
    {
     "data": {
      "text/html": [
       "<div>\n",
       "<style scoped>\n",
       "    .dataframe tbody tr th:only-of-type {\n",
       "        vertical-align: middle;\n",
       "    }\n",
       "\n",
       "    .dataframe tbody tr th {\n",
       "        vertical-align: top;\n",
       "    }\n",
       "\n",
       "    .dataframe thead th {\n",
       "        text-align: right;\n",
       "    }\n",
       "</style>\n",
       "<table border=\"1\" class=\"dataframe\">\n",
       "  <thead>\n",
       "    <tr style=\"text-align: right;\">\n",
       "      <th></th>\n",
       "      <th>stars</th>\n",
       "      <th>text</th>\n",
       "    </tr>\n",
       "  </thead>\n",
       "  <tbody>\n",
       "    <tr>\n",
       "      <th>0</th>\n",
       "      <td>1.0</td>\n",
       "      <td>Total bill for this horrible service? Over $8G...</td>\n",
       "    </tr>\n",
       "    <tr>\n",
       "      <th>1</th>\n",
       "      <td>5.0</td>\n",
       "      <td>I *adore* Travis at the Hard Rock's new Kelly ...</td>\n",
       "    </tr>\n",
       "    <tr>\n",
       "      <th>2</th>\n",
       "      <td>5.0</td>\n",
       "      <td>I have to say that this office really has it t...</td>\n",
       "    </tr>\n",
       "    <tr>\n",
       "      <th>3</th>\n",
       "      <td>5.0</td>\n",
       "      <td>Went in for a lunch. Steak sandwich was delici...</td>\n",
       "    </tr>\n",
       "    <tr>\n",
       "      <th>4</th>\n",
       "      <td>1.0</td>\n",
       "      <td>Today was my second out of three sessions I ha...</td>\n",
       "    </tr>\n",
       "    <tr>\n",
       "      <th>...</th>\n",
       "      <td>...</td>\n",
       "      <td>...</td>\n",
       "    </tr>\n",
       "    <tr>\n",
       "      <th>149995</th>\n",
       "      <td>5.0</td>\n",
       "      <td>The place nice, and Frieda is fabulously amazi...</td>\n",
       "    </tr>\n",
       "    <tr>\n",
       "      <th>149996</th>\n",
       "      <td>4.0</td>\n",
       "      <td>I chose Rincon because of the excellent review...</td>\n",
       "    </tr>\n",
       "    <tr>\n",
       "      <th>149997</th>\n",
       "      <td>1.0</td>\n",
       "      <td>We have enjoyed the Farm before, but this was ...</td>\n",
       "    </tr>\n",
       "    <tr>\n",
       "      <th>149998</th>\n",
       "      <td>3.0</td>\n",
       "      <td>Came here with a couple of friends earlier thi...</td>\n",
       "    </tr>\n",
       "    <tr>\n",
       "      <th>149999</th>\n",
       "      <td>5.0</td>\n",
       "      <td>I would absolutely recommend Elements to anyon...</td>\n",
       "    </tr>\n",
       "  </tbody>\n",
       "</table>\n",
       "<p>150000 rows × 2 columns</p>\n",
       "</div>"
      ],
      "text/plain": [
       "        stars                                               text\n",
       "0         1.0  Total bill for this horrible service? Over $8G...\n",
       "1         5.0  I *adore* Travis at the Hard Rock's new Kelly ...\n",
       "2         5.0  I have to say that this office really has it t...\n",
       "3         5.0  Went in for a lunch. Steak sandwich was delici...\n",
       "4         1.0  Today was my second out of three sessions I ha...\n",
       "...       ...                                                ...\n",
       "149995    5.0  The place nice, and Frieda is fabulously amazi...\n",
       "149996    4.0  I chose Rincon because of the excellent review...\n",
       "149997    1.0  We have enjoyed the Farm before, but this was ...\n",
       "149998    3.0  Came here with a couple of friends earlier thi...\n",
       "149999    5.0  I would absolutely recommend Elements to anyon...\n",
       "\n",
       "[150000 rows x 2 columns]"
      ]
     },
     "execution_count": 5,
     "metadata": {},
     "output_type": "execute_result"
    }
   ],
   "source": [
    "df"
   ]
  },
  {
   "cell_type": "code",
   "execution_count": 6,
   "metadata": {},
   "outputs": [],
   "source": [
    "df['review_length'] = df.text.map(len)"
   ]
  },
  {
   "cell_type": "code",
   "execution_count": 7,
   "metadata": {},
   "outputs": [
    {
     "data": {
      "text/html": [
       "<div>\n",
       "<style scoped>\n",
       "    .dataframe tbody tr th:only-of-type {\n",
       "        vertical-align: middle;\n",
       "    }\n",
       "\n",
       "    .dataframe tbody tr th {\n",
       "        vertical-align: top;\n",
       "    }\n",
       "\n",
       "    .dataframe thead th {\n",
       "        text-align: right;\n",
       "    }\n",
       "</style>\n",
       "<table border=\"1\" class=\"dataframe\">\n",
       "  <thead>\n",
       "    <tr style=\"text-align: right;\">\n",
       "      <th></th>\n",
       "      <th>stars</th>\n",
       "      <th>text</th>\n",
       "      <th>review_length</th>\n",
       "    </tr>\n",
       "  </thead>\n",
       "  <tbody>\n",
       "    <tr>\n",
       "      <th>0</th>\n",
       "      <td>1.0</td>\n",
       "      <td>Total bill for this horrible service? Over $8G...</td>\n",
       "      <td>204</td>\n",
       "    </tr>\n",
       "    <tr>\n",
       "      <th>1</th>\n",
       "      <td>5.0</td>\n",
       "      <td>I *adore* Travis at the Hard Rock's new Kelly ...</td>\n",
       "      <td>1561</td>\n",
       "    </tr>\n",
       "    <tr>\n",
       "      <th>2</th>\n",
       "      <td>5.0</td>\n",
       "      <td>I have to say that this office really has it t...</td>\n",
       "      <td>615</td>\n",
       "    </tr>\n",
       "    <tr>\n",
       "      <th>3</th>\n",
       "      <td>5.0</td>\n",
       "      <td>Went in for a lunch. Steak sandwich was delici...</td>\n",
       "      <td>407</td>\n",
       "    </tr>\n",
       "    <tr>\n",
       "      <th>4</th>\n",
       "      <td>1.0</td>\n",
       "      <td>Today was my second out of three sessions I ha...</td>\n",
       "      <td>3509</td>\n",
       "    </tr>\n",
       "    <tr>\n",
       "      <th>...</th>\n",
       "      <td>...</td>\n",
       "      <td>...</td>\n",
       "      <td>...</td>\n",
       "    </tr>\n",
       "    <tr>\n",
       "      <th>149995</th>\n",
       "      <td>5.0</td>\n",
       "      <td>The place nice, and Frieda is fabulously amazi...</td>\n",
       "      <td>852</td>\n",
       "    </tr>\n",
       "    <tr>\n",
       "      <th>149996</th>\n",
       "      <td>4.0</td>\n",
       "      <td>I chose Rincon because of the excellent review...</td>\n",
       "      <td>1863</td>\n",
       "    </tr>\n",
       "    <tr>\n",
       "      <th>149997</th>\n",
       "      <td>1.0</td>\n",
       "      <td>We have enjoyed the Farm before, but this was ...</td>\n",
       "      <td>357</td>\n",
       "    </tr>\n",
       "    <tr>\n",
       "      <th>149998</th>\n",
       "      <td>3.0</td>\n",
       "      <td>Came here with a couple of friends earlier thi...</td>\n",
       "      <td>420</td>\n",
       "    </tr>\n",
       "    <tr>\n",
       "      <th>149999</th>\n",
       "      <td>5.0</td>\n",
       "      <td>I would absolutely recommend Elements to anyon...</td>\n",
       "      <td>283</td>\n",
       "    </tr>\n",
       "  </tbody>\n",
       "</table>\n",
       "<p>150000 rows × 3 columns</p>\n",
       "</div>"
      ],
      "text/plain": [
       "        stars                                               text  \\\n",
       "0         1.0  Total bill for this horrible service? Over $8G...   \n",
       "1         5.0  I *adore* Travis at the Hard Rock's new Kelly ...   \n",
       "2         5.0  I have to say that this office really has it t...   \n",
       "3         5.0  Went in for a lunch. Steak sandwich was delici...   \n",
       "4         1.0  Today was my second out of three sessions I ha...   \n",
       "...       ...                                                ...   \n",
       "149995    5.0  The place nice, and Frieda is fabulously amazi...   \n",
       "149996    4.0  I chose Rincon because of the excellent review...   \n",
       "149997    1.0  We have enjoyed the Farm before, but this was ...   \n",
       "149998    3.0  Came here with a couple of friends earlier thi...   \n",
       "149999    5.0  I would absolutely recommend Elements to anyon...   \n",
       "\n",
       "        review_length  \n",
       "0                 204  \n",
       "1                1561  \n",
       "2                 615  \n",
       "3                 407  \n",
       "4                3509  \n",
       "...               ...  \n",
       "149995            852  \n",
       "149996           1863  \n",
       "149997            357  \n",
       "149998            420  \n",
       "149999            283  \n",
       "\n",
       "[150000 rows x 3 columns]"
      ]
     },
     "execution_count": 7,
     "metadata": {},
     "output_type": "execute_result"
    }
   ],
   "source": [
    "df"
   ]
  },
  {
   "cell_type": "code",
   "execution_count": 8,
   "metadata": {},
   "outputs": [
    {
     "data": {
      "image/png": "[encoded data removed]",
      "text/plain": [
       "<Figure size 1080x216 with 5 Axes>"
      ]
     },
     "metadata": {},
     "output_type": "display_data"
    }
   ],
   "source": [
    "ax = sns.FacetGrid(data=df, col='stars', xlim=(0, 2000)).map(plt.hist, 'review_length', bins=50)\n",
    "ax.axes[0][0].set(ylabel='number of reviews');"
   ]
  },
  {
   "cell_type": "code",
   "execution_count": 9,
   "metadata": {},
   "outputs": [
    {
     "data": {
      "text/plain": [
       "Text(0.5, 1.0, 'Number of Reviews by Rating')"
      ]
     },
     "execution_count": 9,
     "metadata": {},
     "output_type": "execute_result"
    },
    {
     "data": {
      "image/png": "[encoded data removed]",
      "text/plain": [
       "<Figure size 576x360 with 1 Axes>"
      ]
     },
     "metadata": {},
     "output_type": "display_data"
    }
   ],
   "source": [
    "star_x = df.stars.value_counts().index\n",
    "star_y = df.stars.value_counts().values\n",
    "\n",
    "plt.figure(figsize=(8,5))\n",
    "# colors are in the order 5, 4, 3, 1, 2\n",
    "bar_colors = ['darkgreen', 'mediumseagreen', 'gold', 'crimson', 'orange']\n",
    "plt.bar(star_x, star_y, color=bar_colors, width=.6)\n",
    "plt.xlabel('Stars (Rating)')\n",
    "plt.ylabel('Number of Reviews')\n",
    "plt.title('Number of Reviews by Rating')"
   ]
  },
  {
   "cell_type": "code",
   "execution_count": 10,
   "metadata": {},
   "outputs": [
    {
     "name": "stdout",
     "output_type": "stream",
     "text": [
      "Postive Reviews:  99,454\n",
      "Negative Reviews:  33,966\n"
     ]
    }
   ],
   "source": [
    "pos_reviews = df.text[df.stars>3].values\n",
    "neg_reviews = df.text[df.stars<3].values\n",
    "print('Postive Reviews:  {:,}'.format(len(pos_reviews)))\n",
    "print('Negative Reviews:  {:,}'.format(len(neg_reviews)))"
   ]
  },
  {
   "cell_type": "code",
   "execution_count": 11,
   "metadata": {},
   "outputs": [],
   "source": [
    "from sklearn.feature_extraction import text \n",
    "extra_words = ['ve', 'like', 'got', 'Cleveland', 'just', \n",
    "               'don', 'really', 'said', 'told', 'ok',\n",
    "               'came', 'went', 'did', 'didn', 'good']\n",
    "stop_words = text.ENGLISH_STOP_WORDS.union(extra_words)"
   ]
  },
  {
   "cell_type": "code",
   "execution_count": 12,
   "metadata": {},
   "outputs": [],
   "source": [
    "from sklearn.feature_extraction.text import TfidfVectorizer\n",
    "\n",
    "# Create a vectorizer object to generate term document counts\n",
    "tfidf_pos = TfidfVectorizer(stop_words=stop_words, min_df=10, max_df=0.5, \n",
    "                        ngram_range=(1,1), token_pattern='[a-z][a-z]+')\n",
    "\n",
    "tfidf_neg = TfidfVectorizer(stop_words=stop_words, min_df=10, max_df=0.5, \n",
    "                        ngram_range=(1,1), token_pattern='[a-z][a-z]+')"
   ]
  },
  {
   "cell_type": "code",
   "execution_count": 13,
   "metadata": {},
   "outputs": [
    {
     "name": "stderr",
     "output_type": "stream",
     "text": [
      "c:\\users\\ankit\\appdata\\local\\programs\\python\\python37\\lib\\site-packages\\sklearn\\feature_extraction\\text.py:385: UserWarning: Your stop_words may be inconsistent with your preprocessing. Tokenizing the stop words generated tokens ['cleveland'] not in stop_words.\n",
      "  'stop_words.' % sorted(inconsistent))\n"
     ]
    }
   ],
   "source": [
    "np.random.seed(38)\n",
    "num_reviews = 20000\n",
    "random_neg = np.random.choice(neg_reviews, size=num_reviews)\n",
    "random_pos = np.random.choice(pos_reviews, size=num_reviews)\n",
    "\n",
    "dicty = {'pizzas':'pizza', 'burgers':'burger', 'ordered':'order',\n",
    "         'prices':'price', 'topping':'toppings'}\n",
    "def replace_words(text, dicty):\n",
    "    '''Returns text with word substitutions made according\n",
    "       to the passed `dicty` dictionary'''\n",
    "    for i,j in dicty.items():\n",
    "        text = text.replace(i,j)\n",
    "    return text\n",
    "\n",
    "random_neg = [replace_words(w, dicty) for w in random_neg]\n",
    "random_pos = [replace_words(w, dicty) for w in random_pos]\n",
    "\n",
    "# Get the vectors\n",
    "neg_vectors = tfidf_neg.fit_transform(random_neg)\n",
    "pos_vectors = tfidf_pos.fit_transform(random_pos)"
   ]
  },
  {
   "cell_type": "code",
   "execution_count": null,
   "metadata": {},
   "outputs": [],
   "source": []
  },
  {
   "cell_type": "code",
   "execution_count": 14,
   "metadata": {},
   "outputs": [],
   "source": [
    "# Store TFIDF vectors in a Pandas DataFrame to investigate further\n",
    "neg_df = pd.DataFrame(neg_vectors.todense(), columns=[tfidf_neg.get_feature_names()])\n",
    "pos_df = pd.DataFrame(pos_vectors.todense(), columns=[tfidf_pos.get_feature_names()])\n",
    "\n",
    "# get mean for each column (word): highest means are most important words\n",
    "col_means_neg = {}\n",
    "for col in neg_df:\n",
    "    col_means_neg[col] = neg_df[col].mean()\n",
    "\n",
    "col_means_pos = {}\n",
    "for col in pos_df:\n",
    "    col_means_pos[col] = pos_df[col].mean()"
   ]
  },
  {
   "cell_type": "code",
   "execution_count": null,
   "metadata": {},
   "outputs": [],
   "source": []
  },
  {
   "cell_type": "code",
   "execution_count": 15,
   "metadata": {},
   "outputs": [
    {
     "name": "stdout",
     "output_type": "stream",
     "text": [
      "Top 8 words in POSITIVE reviews:[('great',), ('food',), ('place',), ('service',), ('time',), ('best',), ('love',), ('amazing',)]\n",
      "Top 8 words in NEGATIVE reviews:[('food',), ('service',), ('place',), ('order',), ('time',), ('minutes',), ('customer',), ('people',)]\n"
     ]
    }
   ],
   "source": [
    "no_top_words = 8\n",
    "\n",
    "print('Top %d words in POSITIVE reviews:' %no_top_words, end='')\n",
    "print(sorted(col_means_pos, key=col_means_pos.get, reverse=True)[:no_top_words])\n",
    "\n",
    "print('Top %d words in NEGATIVE reviews:' %no_top_words, end='')\n",
    "print(sorted(col_means_neg, key=col_means_neg.get, reverse=True)[:no_top_words])"
   ]
  },
  {
   "cell_type": "markdown",
   "metadata": {},
   "source": [
    "# LSA- Latent Semantic Analysis"
   ]
  },
  {
   "cell_type": "code",
   "execution_count": 16,
   "metadata": {},
   "outputs": [],
   "source": [
    "from gensim import corpora, models, similarities, matutils\n",
    "\n",
    "# Convert sparse matrix of counts to a gensim corpus\n",
    "# Need to transpose it for gensim which wants terms by docs instead of docs by terms\n",
    "tfidf_pos_corpus = matutils.Sparse2Corpus(pos_vectors.transpose())\n",
    "tfidf_neg_corpus = matutils.Sparse2Corpus(neg_vectors.transpose())\n",
    "\n",
    "# Row indices\n",
    "id2word_pos = dict((v,k) for k,v in tfidf_pos.vocabulary_.items())\n",
    "id2word_neg = dict((v,k) for k,v in tfidf_neg.vocabulary_.items())\n",
    "\n",
    "id2word_pos = corpora.Dictionary.from_corpus(tfidf_pos_corpus, id2word=id2word_pos)\n",
    "id2word_neg = corpora.Dictionary.from_corpus(tfidf_neg_corpus, id2word=id2word_neg)"
   ]
  },
  {
   "cell_type": "code",
   "execution_count": 17,
   "metadata": {},
   "outputs": [],
   "source": [
    "num_topics = 20\n",
    "lsi_pos = models.LsiModel(tfidf_pos_corpus, id2word=id2word_pos, num_topics=num_topics)\n",
    "lsi_neg = models.LsiModel(tfidf_neg_corpus, id2word=id2word_neg, num_topics=num_topics)"
   ]
  },
  {
   "cell_type": "code",
   "execution_count": 18,
   "metadata": {},
   "outputs": [
    {
     "data": {
      "image/png": "[encoded data removed]",
      "text/plain": [
       "<Figure size 864x360 with 1 Axes>"
      ]
     },
     "metadata": {},
     "output_type": "display_data"
    }
   ],
   "source": [
    "singular_values_pos = lsi_pos.projection.s.tolist()\n",
    "singular_values_pos_rel = [sv/singular_values_pos[-1] for sv in singular_values_pos]\n",
    "singular_values_neg = lsi_neg.projection.s.tolist()\n",
    "singular_values_neg_rel = [sv/singular_values_neg[-1] for sv in singular_values_neg]\n",
    "\n",
    "plt.style.use('fivethirtyeight')\n",
    "plt.figure(figsize=(12,5))\n",
    "plt.plot(range(len(singular_values_pos)), singular_values_pos_rel, label='Positive Reviews', alpha=1.0)\n",
    "plt.plot(range(len(singular_values_neg)), singular_values_neg_rel, label='Negative Reviews', alpha=0.7)\n",
    "plt.xticks(range(len(singular_values_pos)), range(len(singular_values_pos)))\n",
    "plt.xlabel('Topic #')\n",
    "plt.ylabel('Relative Strength')\n",
    "plt.title('LSI Topic Strengths (Relative)')\n",
    "plt.legend(loc=0, fontsize='medium');"
   ]
  },
  {
   "cell_type": "code",
   "execution_count": 19,
   "metadata": {},
   "outputs": [],
   "source": [
    "topics_to_print = 5"
   ]
  },
  {
   "cell_type": "code",
   "execution_count": 20,
   "metadata": {},
   "outputs": [
    {
     "name": "stdout",
     "output_type": "stream",
     "text": [
      "Top 5 topics for POSITIVE reviews\n",
      "---------------------------------\n",
      "[(0,\n",
      "  '0.291*\"great\" + 0.276*\"food\" + 0.244*\"place\" + 0.194*\"service\" + '\n",
      "  '0.146*\"time\" + 0.132*\"love\" + 0.132*\"best\" + 0.130*\"amazing\" + '\n",
      "  '0.128*\"friendly\" + 0.120*\"order\"'),\n",
      " (1,\n",
      "  '0.278*\"chicken\" + -0.263*\"great\" + 0.199*\"order\" + -0.178*\"staff\" + '\n",
      "  '0.171*\"delicious\" + 0.170*\"food\" + 0.147*\"pizza\" + -0.143*\"friendly\" + '\n",
      "  '-0.134*\"job\" + -0.119*\"recommend\"'),\n",
      " (2,\n",
      "  '-0.480*\"great\" + -0.467*\"food\" + -0.280*\"service\" + 0.202*\"pizza\" + '\n",
      "  '0.130*\"time\" + 0.103*\"order\" + -0.094*\"atmosphere\" + 0.083*\"make\" + '\n",
      "  '0.083*\"hair\" + 0.081*\"work\"'),\n",
      " (3,\n",
      "  '-0.891*\"pizza\" + -0.184*\"great\" + -0.111*\"crust\" + -0.101*\"best\" + '\n",
      "  '0.075*\"chicken\" + -0.062*\"wings\" + -0.058*\"toppingss\" + -0.057*\"service\" + '\n",
      "  '-0.057*\"delivery\" + -0.056*\"cheese\"'),\n",
      " (4,\n",
      "  '0.547*\"place\" + 0.484*\"love\" + -0.254*\"service\" + -0.182*\"great\" + '\n",
      "  '0.167*\"staff\" + 0.157*\"friendly\" + -0.131*\"time\" + -0.112*\"order\" + '\n",
      "  '-0.099*\"excellent\" + -0.099*\"customer\"')]\n"
     ]
    }
   ],
   "source": [
    "from pprint import pprint\n",
    "print('Top %d topics for POSITIVE reviews' %(topics_to_print))\n",
    "print('-'*33)\n",
    "pprint(lsi_pos.show_topics()[0:topics_to_print])"
   ]
  },
  {
   "cell_type": "code",
   "execution_count": 21,
   "metadata": {},
   "outputs": [
    {
     "name": "stdout",
     "output_type": "stream",
     "text": [
      "Top 5 topics for NEGATIVE reviews\n",
      "---------------------------------\n",
      "[(0,\n",
      "  '0.271*\"food\" + 0.212*\"order\" + 0.202*\"service\" + 0.185*\"place\" + '\n",
      "  '0.171*\"time\" + 0.124*\"minutes\" + 0.102*\"asked\" + 0.098*\"customer\" + '\n",
      "  '0.097*\"people\" + 0.095*\"bad\"'),\n",
      " (1,\n",
      "  '0.388*\"food\" + -0.236*\"car\" + 0.200*\"chicken\" + 0.167*\"order\" + '\n",
      "  '-0.157*\"customer\" + -0.145*\"called\" + -0.132*\"company\" + '\n",
      "  '-0.115*\"appointment\" + 0.109*\"restaurant\" + -0.104*\"phone\"'),\n",
      " (2,\n",
      "  '0.307*\"minutes\" + 0.267*\"service\" + 0.246*\"order\" + -0.210*\"chicken\" + '\n",
      "  '0.182*\"food\" + 0.169*\"waited\" + -0.164*\"car\" + -0.153*\"place\" + '\n",
      "  '0.150*\"wait\" + 0.141*\"table\"'),\n",
      " (3,\n",
      "  '-0.468*\"order\" + 0.391*\"food\" + -0.365*\"pizza\" + 0.297*\"service\" + '\n",
      "  '-0.165*\"chicken\" + -0.164*\"minutes\" + 0.144*\"place\" + 0.118*\"customer\" + '\n",
      "  '0.114*\"horrible\" + 0.113*\"bad\"'),\n",
      " (4,\n",
      "  '0.726*\"pizza\" + 0.330*\"service\" + 0.253*\"customer\" + -0.146*\"car\" + '\n",
      "  '0.135*\"horrible\" + -0.116*\"minutes\" + 0.101*\"rude\" + 0.094*\"worst\" + '\n",
      "  '0.091*\"terrible\" + -0.086*\"table\"')]\n"
     ]
    }
   ],
   "source": [
    "# look at top negative topics\n",
    "print('Top %d topics for NEGATIVE reviews' %(topics_to_print))\n",
    "print('-'*33)\n",
    "pprint(lsi_neg.show_topics()[0:topics_to_print])"
   ]
  },
  {
   "cell_type": "markdown",
   "metadata": {},
   "source": [
    "# NMF-NON negative matrix factorisation"
   ]
  },
  {
   "cell_type": "code",
   "execution_count": 22,
   "metadata": {},
   "outputs": [],
   "source": [
    "from sklearn.decomposition import NMF\n",
    "\n",
    "# change num_topics\n",
    "num_topics = 6\n",
    "\n",
    "nmf_pos = NMF(n_components=num_topics)\n",
    "W_pos = nmf_pos.fit_transform(pos_vectors)\n",
    "H_pos = nmf_pos.components_\n",
    "\n",
    "nmf_neg = NMF(n_components=num_topics)\n",
    "W_neg = nmf_neg.fit_transform(neg_vectors)\n",
    "H_neg = nmf_neg.components_"
   ]
  },
  {
   "cell_type": "code",
   "execution_count": 23,
   "metadata": {},
   "outputs": [
    {
     "name": "stdout",
     "output_type": "stream",
     "text": [
      "Top topics + words for POSITIVE reviews\n",
      "---------------------------------------\n",
      "Topic 0:   1.159*chicken, 1.108*order, 0.859*delicious, 0.701*food, 0.589*fresh, 0.587*menu\n",
      "Topic 1:   0.728*time, 0.461*work, 0.433*staff, 0.370*new, 0.363*job, 0.356*hair\n",
      "Topic 2:   2.254*great, 1.541*food, 1.236*service, 0.373*atmosphere, 0.357*friendly, 0.347*excellent\n",
      "Topic 3:   2.843*pizza, 0.364*crust, 0.255*cheese, 0.193*toppingss, 0.187*wings, 0.183*order\n",
      "Topic 4:   2.241*place, 1.457*love, 0.419*friendly, 0.364*nice, 0.341*staff, 0.304*favorite\n",
      "Topic 5:   1.889*amazing, 1.819*best, 0.593*vegas, 0.306*service, 0.292*recommend, 0.271*town\n",
      "\n",
      "Top topics + words for NEGATIVE reviews\n",
      "---------------------------------------\n",
      "Topic 0:   3.030*food, 1.206*service, 0.815*place, 0.528*bad, 0.505*restaurant, 0.446*better\n",
      "Topic 1:   0.640*customer, 0.627*time, 0.533*service, 0.488*called, 0.471*place, 0.449*rude\n",
      "Topic 2:   1.602*order, 1.186*minutes, 0.602*table, 0.593*wait, 0.583*waited, 0.521*took\n",
      "Topic 3:   1.450*chicken, 0.620*sauce, 0.619*burger, 0.581*rice, 0.533*fries, 0.515*salad\n",
      "Topic 4:   2.886*pizza, 0.348*crust, 0.229*order, 0.227*cheese, 0.203*pepperoni, 0.201*delivery\n",
      "Topic 5:   2.686*car, 0.505*rental, 0.450*wash, 0.296*company, 0.269*oil, 0.255*cars\n"
     ]
    }
   ],
   "source": [
    "def display_topics(model, feature_names, num_topics, no_top_words):\n",
    "    for topic_idx, topic in enumerate(model.components_):\n",
    "        if topic_idx < num_topics:\n",
    "            print(\"{:11}\".format(\"Topic %d:\" %(topic_idx)), end='')\n",
    "            print(\", \".join(['{:04.3f}*'.format(topic[i])+feature_names[i] \\\n",
    "                             for i in topic.argsort()[:-no_top_words-1:-1]]))\n",
    "\n",
    "no_topics = num_topics\n",
    "no_top_words = 6\n",
    "\n",
    "print('Top topics + words for POSITIVE reviews')\n",
    "print('-'*39)\n",
    "display_topics(nmf_pos, tfidf_pos.get_feature_names(), no_topics, no_top_words)\n",
    "\n",
    "print('\\nTop topics + words for NEGATIVE reviews')\n",
    "print('-'*39)\n",
    "display_topics(nmf_neg, tfidf_neg.get_feature_names(), no_topics, no_top_words)"
   ]
  },
  {
   "cell_type": "code",
   "execution_count": 24,
   "metadata": {},
   "outputs": [
    {
     "name": "stdout",
     "output_type": "stream",
     "text": [
      "6774\n",
      "This place is all around fantastic, beautiful set up. Great for brunch and big parties or just sitting at the bar watching the game. The bartenders are super friendly and fun to talk to. The food is delicious, the avocado toast and burger are amazing. The soap is what's up too!\n"
     ]
    }
   ],
   "source": [
    "# look at a random positive review\n",
    "review_num = np.random.randint(0, high=len(random_pos))\n",
    "print(review_num)\n",
    "print(random_pos[review_num])"
   ]
  },
  {
   "cell_type": "code",
   "execution_count": 25,
   "metadata": {},
   "outputs": [],
   "source": [
    "# compute cosine similarities of this review with all other reviews in the new space\n",
    "import sklearn.metrics.pairwise as smp\n",
    "\n",
    "cosines = {}\n",
    "for ind, review in enumerate(W_pos):\n",
    "    similarity = smp.cosine_similarity(W_pos[review_num].reshape(1,-1), review.reshape(1,-1))\n",
    "    cosines[ind] = similarity[0][0]"
   ]
  },
  {
   "cell_type": "code",
   "execution_count": 26,
   "metadata": {},
   "outputs": [
    {
     "name": "stdout",
     "output_type": "stream",
     "text": [
      "--------------------------------------------------\n",
      ">> Similarity 0.998\n",
      "Wow! Glad I found this place off the strip, was not disappointed. From the moment we walked in the staff was very nice and friendly. Service was great and our food came fast. I order the Monte Cristo with seasoned potatoes and it was amazing! \n",
      "\n",
      "Some meals come with toast or coffee cake options, go with the coffee cake ;)\n",
      "--------------------------------------------------\n",
      ">> Similarity 0.998\n",
      "Wow! Glad I found this place off the strip, was not disappointed. From the moment we walked in the staff was very nice and friendly. Service was great and our food came fast. I order the Monte Cristo with seasoned potatoes and it was amazing! \n",
      "\n",
      "Some meals come with toast or coffee cake options, go with the coffee cake ;)\n",
      "--------------------------------------------------\n",
      ">> Similarity 0.995\n",
      "Best date place in Scottsdale.  It's a very small and intimate little bar that also serves food (never eaten anything but I've heard great things).  Mike is usually behind the bar and he's just an all around fantastic human being.\n",
      "--------------------------------------------------\n"
     ]
    }
   ],
   "source": [
    "# get top 3 matching reviews\n",
    "for n in sorted(cosines, key=cosines.get, reverse=True)[1:4]:\n",
    "    print('-'*50)\n",
    "    print('>> Similarity {:.3f}'.format(cosines[n]))\n",
    "    print(random_pos[n])\n",
    "print('-'*50)"
   ]
  },
  {
   "cell_type": "markdown",
   "metadata": {},
   "source": [
    "# Count Vectorizer"
   ]
  },
  {
   "cell_type": "code",
   "execution_count": 27,
   "metadata": {},
   "outputs": [
    {
     "name": "stderr",
     "output_type": "stream",
     "text": [
      "c:\\users\\ankit\\appdata\\local\\programs\\python\\python37\\lib\\site-packages\\sklearn\\feature_extraction\\text.py:385: UserWarning: Your stop_words may be inconsistent with your preprocessing. Tokenizing the stop words generated tokens ['cleveland'] not in stop_words.\n",
      "  'stop_words.' % sorted(inconsistent))\n"
     ]
    }
   ],
   "source": [
    "from sklearn.feature_extraction.text import CountVectorizer\n",
    "\n",
    "# Create a vectorizer object to generate term document counts\n",
    "cv_pos = CountVectorizer(stop_words=stop_words, min_df=10, max_df=0.5, \n",
    "                        ngram_range=(1,1), token_pattern='[a-z][a-z]+')\n",
    "\n",
    "cv_neg = CountVectorizer(stop_words=stop_words, min_df=10, max_df=0.5, \n",
    "                        ngram_range=(1,1), token_pattern='[a-z][a-z]+')\n",
    "\n",
    "# Get random subset of reviews\n",
    "np.random.seed(38)\n",
    "num_reviews = 15000\n",
    "cv_random_neg = np.random.choice(neg_reviews, size=num_reviews)\n",
    "cv_random_pos = np.random.choice(pos_reviews, size=num_reviews)\n",
    "\n",
    "# replace words from defined dictionary 'dicty'\n",
    "cv_random_neg = [replace_words(w, dicty) for w in cv_random_neg]\n",
    "cv_random_pos = [replace_words(w, dicty) for w in cv_random_pos]\n",
    "\n",
    "# Get the cv vectors\n",
    "cv_neg_vectors = cv_neg.fit_transform(cv_random_neg).transpose()\n",
    "cv_pos_vectors = cv_pos.fit_transform(cv_random_pos).transpose()"
   ]
  },
  {
   "cell_type": "code",
   "execution_count": 28,
   "metadata": {},
   "outputs": [],
   "source": [
    "# Convert sparse matrix of counts to a gensim corpus\n",
    "corpus_neg = matutils.Sparse2Corpus(cv_neg_vectors)\n",
    "corpus_pos = matutils.Sparse2Corpus(cv_pos_vectors)\n",
    "\n",
    "# save a mapping (dict) of row id to word (token) for later use by gensim \n",
    "id2word_cv_pos = dict((v, k) for k, v in cv_pos.vocabulary_.items())\n",
    "id2word_cv_neg = dict((v, k) for k, v in cv_neg.vocabulary_.items())"
   ]
  },
  {
   "cell_type": "markdown",
   "metadata": {},
   "source": [
    "\n",
    "# LDA -Latent Dirichlet Allocation"
   ]
  },
  {
   "cell_type": "code",
   "execution_count": 29,
   "metadata": {},
   "outputs": [],
   "source": [
    "# create lda multicore model\n",
    "lda_pos = models.ldamulticore.LdaMulticore(corpus=corpus_pos, num_topics=5, \n",
    "                                           id2word=id2word_cv_pos, passes=10, workers=15)\n",
    "lda_neg = models.ldamulticore.LdaMulticore(corpus=corpus_neg, num_topics=5, \n",
    "                                           id2word=id2word_cv_neg, passes=10, workers=15)"
   ]
  },
  {
   "cell_type": "code",
   "execution_count": 30,
   "metadata": {},
   "outputs": [
    {
     "name": "stdout",
     "output_type": "stream",
     "text": [
      "Top topics + words for POSITIVE reviews\n",
      "----------------------------------------\n",
      "[(0,\n",
      "  '0.025*\"place\" + 0.020*\"great\" + 0.016*\"food\" + 0.010*\"time\" + 0.010*\"love\" '\n",
      "  '+ 0.008*\"nice\" + 0.007*\"amazing\"'),\n",
      " (1,\n",
      "  '0.021*\"food\" + 0.013*\"great\" + 0.011*\"service\" + 0.010*\"place\" + '\n",
      "  '0.010*\"order\" + 0.008*\"chicken\" + 0.008*\"delicious\"'),\n",
      " (2,\n",
      "  '0.011*\"great\" + 0.009*\"place\" + 0.008*\"room\" + 0.008*\"hotel\" + 0.007*\"best\" '\n",
      "  '+ 0.007*\"food\" + 0.006*\"hair\"'),\n",
      " (3,\n",
      "  '0.016*\"great\" + 0.011*\"time\" + 0.010*\"service\" + 0.007*\"place\" + '\n",
      "  '0.006*\"recommend\" + 0.006*\"work\" + 0.006*\"staff\"'),\n",
      " (4,\n",
      "  '0.012*\"place\" + 0.012*\"great\" + 0.011*\"food\" + 0.011*\"pizza\" + '\n",
      "  '0.009*\"burger\" + 0.007*\"friendly\" + 0.007*\"service\"')]\n",
      "\n",
      "Top topics + words for NEGATIVE reviews\n",
      "----------------------------------------\n",
      "[(0,\n",
      "  '0.024*\"food\" + 0.021*\"order\" + 0.013*\"place\" + 0.010*\"service\" + '\n",
      "  '0.009*\"time\" + 0.007*\"minutes\" + 0.006*\"chicken\"'),\n",
      " (1,\n",
      "  '0.012*\"time\" + 0.008*\"place\" + 0.007*\"appointment\" + 0.007*\"minutes\" + '\n",
      "  '0.007*\"service\" + 0.006*\"asked\" + 0.006*\"called\"'),\n",
      " (2,\n",
      "  '0.014*\"car\" + 0.011*\"time\" + 0.005*\"service\" + 0.005*\"place\" + '\n",
      "  '0.005*\"asked\" + 0.005*\"store\" + 0.004*\"hair\"'),\n",
      " (3,\n",
      "  '0.016*\"food\" + 0.010*\"service\" + 0.010*\"restaurant\" + 0.009*\"place\" + '\n",
      "  '0.006*\"order\" + 0.006*\"time\" + 0.006*\"better\"'),\n",
      " (4,\n",
      "  '0.013*\"service\" + 0.009*\"place\" + 0.009*\"customer\" + 0.007*\"time\" + '\n",
      "  '0.007*\"room\" + 0.006*\"called\" + 0.005*\"know\"')]\n"
     ]
    }
   ],
   "source": [
    "print('Top topics + words for POSITIVE reviews')\n",
    "print('-'*40)\n",
    "pprint(lda_pos.print_topics(num_words=7))\n",
    "\n",
    "print('\\nTop topics + words for NEGATIVE reviews')\n",
    "print('-'*40)\n",
    "pprint(lda_neg.print_topics(num_words=7))"
   ]
  },
  {
   "cell_type": "markdown",
   "metadata": {},
   "source": [
    "# Continuing with NMF Topics"
   ]
  },
  {
   "cell_type": "code",
   "execution_count": 31,
   "metadata": {},
   "outputs": [
    {
     "name": "stdout",
     "output_type": "stream",
     "text": [
      "Top topics + words for POSITIVE reviews\n",
      "---------------------------------------\n",
      "Topic 0:   1.159*chicken, 1.108*order, 0.859*delicious, 0.701*food, 0.589*fresh, 0.587*menu\n",
      "Topic 1:   0.728*time, 0.461*work, 0.433*staff, 0.370*new, 0.363*job, 0.356*hair\n",
      "Topic 2:   2.254*great, 1.541*food, 1.236*service, 0.373*atmosphere, 0.357*friendly, 0.347*excellent\n",
      "Topic 3:   2.843*pizza, 0.364*crust, 0.255*cheese, 0.193*toppingss, 0.187*wings, 0.183*order\n",
      "Topic 4:   2.241*place, 1.457*love, 0.419*friendly, 0.364*nice, 0.341*staff, 0.304*favorite\n",
      "Topic 5:   1.889*amazing, 1.819*best, 0.593*vegas, 0.306*service, 0.292*recommend, 0.271*town\n"
     ]
    }
   ],
   "source": [
    "# let's remind ourselves of the POSITIVE topics\n",
    "print('Top topics + words for POSITIVE reviews')\n",
    "print('-'*39)\n",
    "display_topics(nmf_pos, tfidf_pos.get_feature_names(), no_topics, no_top_words)"
   ]
  },
  {
   "cell_type": "code",
   "execution_count": 32,
   "metadata": {},
   "outputs": [
    {
     "name": "stdout",
     "output_type": "stream",
     "text": [
      "Positive Review #632\n",
      "-------------------------\n",
      "This was my first visit and I'm impressed! I've had tons and tons and tons of manicures and pedicures all over the world... and I have to say this was the best paint job so far. The cuticle clean-up was good too but I noticed some missed spots. I appreciated the foot massage, but the hand massage could have been longer :-) \n",
      "\n",
      "The place is clean and the lady who did my nails showed me how they sanitize the tools. I was a bit bummed that she didn't clean up her area after working on the previous customer. \n",
      "\n",
      "One more thing.... You know when you go into a nail salon and they start speaking a language you don't know and you wonder if they are talking about you? Well, that doesn't happen here! They started speaking Chinese and then stopped and apologized to me to reassure me they were talking about something (I can't even remember what). That's never happened ever! So I appreciated that gesture. \n",
      "\n",
      "The ladies were so friendly and personable with their customers. All in all, this is a great nail salon! I will be returning for sure!\n",
      "-------------------------\n",
      "Topic 1: 0.0515\n",
      "Topic 4: 0.0143\n",
      "Topic 5: 0.0133\n",
      "Topic 2: 0.0041\n",
      "Topic 0: 0.0000\n",
      "Topic 3: 0.0000\n"
     ]
    }
   ],
   "source": [
    "# we can investigate a random positive review and see how it's distributed across those topics\n",
    "review_num = np.random.randint(0, high=len(random_pos))\n",
    "print('Positive Review #%d' %review_num)\n",
    "print('-'*25)\n",
    "print(random_pos[review_num])\n",
    "print('-'*25)\n",
    "topic_dict = {}\n",
    "for ind, w in enumerate(W_pos[review_num]):\n",
    "    topic_dict[ind] = w\n",
    "for k in sorted(topic_dict, key=topic_dict.get, reverse=True):\n",
    "     print('Topic {}: {:.4f}'.format(k, topic_dict[k]))"
   ]
  },
  {
   "cell_type": "code",
   "execution_count": 33,
   "metadata": {},
   "outputs": [
    {
     "name": "stdout",
     "output_type": "stream",
     "text": [
      "Top topics + words for NEGATIVE reviews\n",
      "---------------------------------------\n",
      "Topic 0:   3.030*food, 1.206*service, 0.815*place, 0.528*bad, 0.505*restaurant, 0.446*better\n",
      "Topic 1:   0.640*customer, 0.627*time, 0.533*service, 0.488*called, 0.471*place, 0.449*rude\n",
      "Topic 2:   1.602*order, 1.186*minutes, 0.602*table, 0.593*wait, 0.583*waited, 0.521*took\n",
      "Topic 3:   1.450*chicken, 0.620*sauce, 0.619*burger, 0.581*rice, 0.533*fries, 0.515*salad\n",
      "Topic 4:   2.886*pizza, 0.348*crust, 0.229*order, 0.227*cheese, 0.203*pepperoni, 0.201*delivery\n",
      "Topic 5:   2.686*car, 0.505*rental, 0.450*wash, 0.296*company, 0.269*oil, 0.255*cars\n"
     ]
    }
   ],
   "source": [
    "print('Top topics + words for NEGATIVE reviews')\n",
    "print('-'*39)\n",
    "display_topics(nmf_neg, tfidf_neg.get_feature_names(), no_topics, no_top_words)"
   ]
  },
  {
   "cell_type": "code",
   "execution_count": 34,
   "metadata": {},
   "outputs": [
    {
     "name": "stdout",
     "output_type": "stream",
     "text": [
      "Negative Review #1416\n",
      "-------------------------\n",
      "I really don't know what all the hype is about. Burgers are less than mediocre,  almost tasteless. Would not recommend to anyone, save your money and spend it in something that actually tastes like what it costs.\n",
      "-------------------------\n",
      "Topic 1: 0.0157\n",
      "Topic 3: 0.0095\n",
      "Topic 0: 0.0080\n",
      "Topic 5: 0.0009\n",
      "Topic 4: 0.0001\n",
      "Topic 2: 0.0000\n"
     ]
    }
   ],
   "source": [
    "# now investigate a random negative review and see how it's distributed across those topics\n",
    "review_num = np.random.randint(0, high=len(random_neg))\n",
    "print('Negative Review #%d' %review_num)\n",
    "print('-'*25)\n",
    "print(random_neg[review_num])\n",
    "print('-'*25)\n",
    "topic_dict = {}\n",
    "for ind, w in enumerate(W_neg[review_num]):\n",
    "    topic_dict[ind] = w\n",
    "for k in sorted(topic_dict, key=topic_dict.get, reverse=True):\n",
    "     print('Topic {}: {:.4f}'.format(k, topic_dict[k]))"
   ]
  },
  {
   "cell_type": "code",
   "execution_count": 35,
   "metadata": {},
   "outputs": [
    {
     "name": "stdout",
     "output_type": "stream",
     "text": [
      "Postive Reviews:  99,454\n",
      "Negative Reviews:  33,966\n"
     ]
    }
   ],
   "source": [
    "print('Postive Reviews:  {:,}'.format(len(pos_reviews)))\n",
    "print('Negative Reviews:  {:,}'.format(len(neg_reviews)))"
   ]
  },
  {
   "cell_type": "code",
   "execution_count": 36,
   "metadata": {},
   "outputs": [],
   "source": [
    "# Create a vectorizer object to generate term document counts\n",
    "tfidf_pos = TfidfVectorizer(stop_words=stop_words, min_df=10, max_df=0.5, \n",
    "                        ngram_range=(1,1), token_pattern='[a-z][a-z]+')\n",
    "\n",
    "tfidf_neg = TfidfVectorizer(stop_words=stop_words, min_df=10, max_df=0.5, \n",
    "                        ngram_range=(1,1), token_pattern='[a-z][a-z]+')\n",
    "\n",
    "# replace words with defined dictionary 'dicty'\n",
    "pos_reviews = [replace_words(w, dicty) for w in pos_reviews]\n",
    "neg_reviews = [replace_words(w, dicty) for w in neg_reviews]\n",
    "\n",
    "# Get the vectors\n",
    "neg_vectors = tfidf_neg.fit_transform(neg_reviews)\n",
    "pos_vectors = tfidf_pos.fit_transform(pos_reviews)"
   ]
  },
  {
   "cell_type": "code",
   "execution_count": 46,
   "metadata": {},
   "outputs": [],
   "source": [
    "# NMF for all reviews\n",
    "from sklearn.decomposition import NMF\n",
    "\n",
    "# change num_topics\n",
    "num_topics = 5\n",
    "\n",
    "nmf_pos = NMF(n_components=num_topics)\n",
    "W_pos = nmf_pos.fit_transform(pos_vectors)\n",
    "H_pos = nmf_pos.components_\n",
    "\n",
    "nmf_neg = NMF(n_components=num_topics)\n",
    "W_neg = nmf_neg.fit_transform(neg_vectors)\n",
    "H_neg = nmf_neg.components_"
   ]
  },
  {
   "cell_type": "code",
   "execution_count": 47,
   "metadata": {},
   "outputs": [
    {
     "name": "stdout",
     "output_type": "stream",
     "text": [
      "Topics for POSITIVE reviews\n",
      "---------------------------------------\n",
      "Topic 0:   1.481*time, 1.001*staff, 0.845*work, 0.833*recommend, 0.824*friendly\n",
      "Topic 1:   1.296*chicken, 1.256*order, 0.964*delicious, 0.781*food, 0.688*menu\n",
      "Topic 2:   3.070*great, 2.355*food, 1.959*service, 0.561*atmosphere, 0.554*excellent\n",
      "Topic 3:   4.171*pizza, 0.607*crust, 0.343*best, 0.301*cheese, 0.298*wings\n",
      "Topic 4:   3.169*place, 2.165*love, 0.470*amazing, 0.427*friendly, 0.408*staff\n",
      "\n",
      "Topics for NEGATIVE reviews\n",
      "---------------------------------------\n",
      "Topic 0:   3.340*food, 1.401*service, 0.959*place, 0.607*bad, 0.559*restaurant\n",
      "Topic 1:   0.792*car, 0.626*customer, 0.616*time, 0.528*called, 0.511*service\n",
      "Topic 2:   1.510*chicken, 0.717*burger, 0.682*order, 0.642*sauce, 0.596*rice\n",
      "Topic 3:   1.964*order, 1.705*minutes, 0.919*table, 0.896*wait, 0.817*waited\n",
      "Topic 4:   3.377*pizza, 0.430*crust, 0.403*order, 0.334*cheese, 0.281*delivery\n"
     ]
    }
   ],
   "source": [
    "no_topics = num_topics\n",
    "no_top_words = 5\n",
    "\n",
    "print('Topics for POSITIVE reviews')\n",
    "print('-'*39)\n",
    "display_topics(nmf_pos, tfidf_pos.get_feature_names(), no_topics, no_top_words)\n",
    "\n",
    "print('\\nTopics for NEGATIVE reviews')\n",
    "print('-'*39)\n",
    "display_topics(nmf_neg, tfidf_neg.get_feature_names(), no_topics, no_top_words)"
   ]
  },
  {
   "cell_type": "code",
   "execution_count": 48,
   "metadata": {},
   "outputs": [],
   "source": [
    "# create topic dictionaries to summarize the topic meanings\n",
    "pos_topics = {0:'beer/happy_hour', 1:'food/pizza', 2:'service/atmosphere', \n",
    "              3:'food/burger/fries', 4:'friendly_staff', 5:'food/chicken/salad'}\n",
    "\n",
    "neg_topics = {0:'beer/people', 1:'food/chicken/salad', 2:'food/pizza', \n",
    "              3:'wait/table', 4:'food/burger/fries', 5:'bad_service'}"
   ]
  },
  {
   "cell_type": "code",
   "execution_count": 49,
   "metadata": {},
   "outputs": [],
   "source": [
    "# we create dataframes for positive & negative reviews that we can\n",
    "# later add topic information to\n",
    "df_pos = df[['stars', 'text', 'review_length']][df.stars>3].reset_index()\n",
    "df_neg = df[[ 'stars', 'text', 'review_length']][df.stars<3].reset_index()\n",
    "df_pos.drop(labels='index', axis=1, inplace=True)\n",
    "df_neg.drop(labels='index', axis=1, inplace=True)"
   ]
  },
  {
   "cell_type": "code",
   "execution_count": 41,
   "metadata": {},
   "outputs": [
    {
     "name": "stdout",
     "output_type": "stream",
     "text": [
      "Topic weights :  [0.0262871  0.00061329 0.00114473 0.00036442 0.00013154 0.        ]\n",
      "Sum of weights:  0.02854107862709221\n"
     ]
    }
   ],
   "source": [
    "print('Topic weights : ', W_pos[0])\n",
    "print('Sum of weights: ', W_pos[0].sum())"
   ]
  },
  {
   "cell_type": "code",
   "execution_count": 42,
   "metadata": {},
   "outputs": [
    {
     "name": "stdout",
     "output_type": "stream",
     "text": [
      "Normalized Topic weights :  [[0.92102692 0.02148799 0.04010798 0.01276821 0.0046089  0.        ]]\n",
      "Sum of normalized weights:  1.0000000000000002\n"
     ]
    }
   ],
   "source": [
    "from sklearn.preprocessing import normalize\n",
    "print('Normalized Topic weights : ', normalize(W_pos[0].reshape(1,-1), norm='l1'))\n",
    "print('Sum of normalized weights: ', normalize(W_pos[0].reshape(1,-1), norm='l1').sum())"
   ]
  },
  {
   "cell_type": "code",
   "execution_count": 43,
   "metadata": {},
   "outputs": [],
   "source": [
    "# add normalized topic weights to each review\n",
    "df_pos = pd.concat([df_pos, pd.DataFrame(normalize(W_pos, norm='l1'))], axis=1)\n",
    "df_neg = pd.concat([df_neg, pd.DataFrame(normalize(W_neg, norm='l1'))], axis=1)"
   ]
  },
  {
   "cell_type": "code",
   "execution_count": 44,
   "metadata": {},
   "outputs": [
    {
     "data": {
      "text/html": [
       "<div>\n",
       "<style scoped>\n",
       "    .dataframe tbody tr th:only-of-type {\n",
       "        vertical-align: middle;\n",
       "    }\n",
       "\n",
       "    .dataframe tbody tr th {\n",
       "        vertical-align: top;\n",
       "    }\n",
       "\n",
       "    .dataframe thead th {\n",
       "        text-align: right;\n",
       "    }\n",
       "</style>\n",
       "<table border=\"1\" class=\"dataframe\">\n",
       "  <thead>\n",
       "    <tr style=\"text-align: right;\">\n",
       "      <th></th>\n",
       "      <th>stars</th>\n",
       "      <th>text</th>\n",
       "      <th>review_length</th>\n",
       "      <th>0</th>\n",
       "      <th>1</th>\n",
       "      <th>2</th>\n",
       "      <th>3</th>\n",
       "      <th>4</th>\n",
       "      <th>5</th>\n",
       "    </tr>\n",
       "  </thead>\n",
       "  <tbody>\n",
       "    <tr>\n",
       "      <th>0</th>\n",
       "      <td>5.0</td>\n",
       "      <td>I *adore* Travis at the Hard Rock's new Kelly ...</td>\n",
       "      <td>1561</td>\n",
       "      <td>0.921027</td>\n",
       "      <td>0.021488</td>\n",
       "      <td>0.040108</td>\n",
       "      <td>0.012768</td>\n",
       "      <td>0.004609</td>\n",
       "      <td>0.000000</td>\n",
       "    </tr>\n",
       "    <tr>\n",
       "      <th>1</th>\n",
       "      <td>5.0</td>\n",
       "      <td>I have to say that this office really has it t...</td>\n",
       "      <td>615</td>\n",
       "      <td>0.440893</td>\n",
       "      <td>0.000000</td>\n",
       "      <td>0.046403</td>\n",
       "      <td>0.000000</td>\n",
       "      <td>0.000000</td>\n",
       "      <td>0.512704</td>\n",
       "    </tr>\n",
       "    <tr>\n",
       "      <th>2</th>\n",
       "      <td>5.0</td>\n",
       "      <td>Went in for a lunch. Steak sandwich was delici...</td>\n",
       "      <td>407</td>\n",
       "      <td>0.058670</td>\n",
       "      <td>0.542483</td>\n",
       "      <td>0.156099</td>\n",
       "      <td>0.011995</td>\n",
       "      <td>0.000000</td>\n",
       "      <td>0.230753</td>\n",
       "    </tr>\n",
       "    <tr>\n",
       "      <th>3</th>\n",
       "      <td>4.0</td>\n",
       "      <td>I'll be the first to admit that I was not exci...</td>\n",
       "      <td>1547</td>\n",
       "      <td>0.201097</td>\n",
       "      <td>0.655590</td>\n",
       "      <td>0.077859</td>\n",
       "      <td>0.000000</td>\n",
       "      <td>0.056860</td>\n",
       "      <td>0.008594</td>\n",
       "    </tr>\n",
       "    <tr>\n",
       "      <th>4</th>\n",
       "      <td>4.0</td>\n",
       "      <td>Like walking back in time, every Saturday morn...</td>\n",
       "      <td>653</td>\n",
       "      <td>0.605516</td>\n",
       "      <td>0.000000</td>\n",
       "      <td>0.000000</td>\n",
       "      <td>0.000000</td>\n",
       "      <td>0.394484</td>\n",
       "      <td>0.000000</td>\n",
       "    </tr>\n",
       "  </tbody>\n",
       "</table>\n",
       "</div>"
      ],
      "text/plain": [
       "   stars                                               text  review_length  \\\n",
       "0    5.0  I *adore* Travis at the Hard Rock's new Kelly ...           1561   \n",
       "1    5.0  I have to say that this office really has it t...            615   \n",
       "2    5.0  Went in for a lunch. Steak sandwich was delici...            407   \n",
       "3    4.0  I'll be the first to admit that I was not exci...           1547   \n",
       "4    4.0  Like walking back in time, every Saturday morn...            653   \n",
       "\n",
       "          0         1         2         3         4         5  \n",
       "0  0.921027  0.021488  0.040108  0.012768  0.004609  0.000000  \n",
       "1  0.440893  0.000000  0.046403  0.000000  0.000000  0.512704  \n",
       "2  0.058670  0.542483  0.156099  0.011995  0.000000  0.230753  \n",
       "3  0.201097  0.655590  0.077859  0.000000  0.056860  0.008594  \n",
       "4  0.605516  0.000000  0.000000  0.000000  0.394484  0.000000  "
      ]
     },
     "execution_count": 44,
     "metadata": {},
     "output_type": "execute_result"
    }
   ],
   "source": [
    "df_pos.head()"
   ]
  },
  {
   "cell_type": "code",
   "execution_count": 45,
   "metadata": {},
   "outputs": [
    {
     "data": {
      "text/html": [
       "<div>\n",
       "<style scoped>\n",
       "    .dataframe tbody tr th:only-of-type {\n",
       "        vertical-align: middle;\n",
       "    }\n",
       "\n",
       "    .dataframe tbody tr th {\n",
       "        vertical-align: top;\n",
       "    }\n",
       "\n",
       "    .dataframe thead th {\n",
       "        text-align: right;\n",
       "    }\n",
       "</style>\n",
       "<table border=\"1\" class=\"dataframe\">\n",
       "  <thead>\n",
       "    <tr style=\"text-align: right;\">\n",
       "      <th></th>\n",
       "      <th>stars</th>\n",
       "      <th>text</th>\n",
       "      <th>review_length</th>\n",
       "      <th>0</th>\n",
       "      <th>1</th>\n",
       "      <th>2</th>\n",
       "      <th>3</th>\n",
       "      <th>4</th>\n",
       "      <th>5</th>\n",
       "    </tr>\n",
       "  </thead>\n",
       "  <tbody>\n",
       "    <tr>\n",
       "      <th>0</th>\n",
       "      <td>1.0</td>\n",
       "      <td>Total bill for this horrible service? Over $8G...</td>\n",
       "      <td>204</td>\n",
       "      <td>0.293598</td>\n",
       "      <td>0.548333</td>\n",
       "      <td>0.000000</td>\n",
       "      <td>0.000000</td>\n",
       "      <td>0.003539</td>\n",
       "      <td>0.15453</td>\n",
       "    </tr>\n",
       "    <tr>\n",
       "      <th>1</th>\n",
       "      <td>1.0</td>\n",
       "      <td>Today was my second out of three sessions I ha...</td>\n",
       "      <td>3509</td>\n",
       "      <td>0.000000</td>\n",
       "      <td>0.582066</td>\n",
       "      <td>0.000000</td>\n",
       "      <td>0.417934</td>\n",
       "      <td>0.000000</td>\n",
       "      <td>0.00000</td>\n",
       "    </tr>\n",
       "    <tr>\n",
       "      <th>2</th>\n",
       "      <td>1.0</td>\n",
       "      <td>This place has gone down hill.  Clearly they h...</td>\n",
       "      <td>374</td>\n",
       "      <td>0.728961</td>\n",
       "      <td>0.154506</td>\n",
       "      <td>0.100062</td>\n",
       "      <td>0.000000</td>\n",
       "      <td>0.016471</td>\n",
       "      <td>0.00000</td>\n",
       "    </tr>\n",
       "    <tr>\n",
       "      <th>3</th>\n",
       "      <td>2.0</td>\n",
       "      <td>I was really looking forward to visiting after...</td>\n",
       "      <td>1423</td>\n",
       "      <td>0.134511</td>\n",
       "      <td>0.264690</td>\n",
       "      <td>0.115006</td>\n",
       "      <td>0.479176</td>\n",
       "      <td>0.006617</td>\n",
       "      <td>0.00000</td>\n",
       "    </tr>\n",
       "    <tr>\n",
       "      <th>4</th>\n",
       "      <td>1.0</td>\n",
       "      <td>Walked in around 4 on a Friday afternoon, we s...</td>\n",
       "      <td>434</td>\n",
       "      <td>0.081616</td>\n",
       "      <td>0.404911</td>\n",
       "      <td>0.000000</td>\n",
       "      <td>0.513472</td>\n",
       "      <td>0.000000</td>\n",
       "      <td>0.00000</td>\n",
       "    </tr>\n",
       "  </tbody>\n",
       "</table>\n",
       "</div>"
      ],
      "text/plain": [
       "   stars                                               text  review_length  \\\n",
       "0    1.0  Total bill for this horrible service? Over $8G...            204   \n",
       "1    1.0  Today was my second out of three sessions I ha...           3509   \n",
       "2    1.0  This place has gone down hill.  Clearly they h...            374   \n",
       "3    2.0  I was really looking forward to visiting after...           1423   \n",
       "4    1.0  Walked in around 4 on a Friday afternoon, we s...            434   \n",
       "\n",
       "          0         1         2         3         4        5  \n",
       "0  0.293598  0.548333  0.000000  0.000000  0.003539  0.15453  \n",
       "1  0.000000  0.582066  0.000000  0.417934  0.000000  0.00000  \n",
       "2  0.728961  0.154506  0.100062  0.000000  0.016471  0.00000  \n",
       "3  0.134511  0.264690  0.115006  0.479176  0.006617  0.00000  \n",
       "4  0.081616  0.404911  0.000000  0.513472  0.000000  0.00000  "
      ]
     },
     "execution_count": 45,
     "metadata": {},
     "output_type": "execute_result"
    }
   ],
   "source": [
    "df_neg.head()"
   ]
  },
  {
   "cell_type": "code",
   "execution_count": 93,
   "metadata": {},
   "outputs": [],
   "source": [
    "from wordcloud import WordCloud"
   ]
  },
  {
   "cell_type": "code",
   "execution_count": 94,
   "metadata": {},
   "outputs": [],
   "source": [
    "positive_text = ' '.join(df_pos['text'].str.lower())"
   ]
  },
  {
   "cell_type": "code",
   "execution_count": 95,
   "metadata": {},
   "outputs": [],
   "source": [
    "# stopwords = STOPWORDS\n",
    "# stopwords.add('one','got','even','lot','went','came','make')\n",
    "extra_words = ['ve', 'like', 'got', 'one', 'just','got','even','lot','went','came','make' \n",
    "               'don', 'really', 'said', 'told', 'ok','restaurant','come','thing','way','work','it','time',\n",
    "               'came', 'went', 'did', 'didn', 'good']\n",
    "stop_words1 = text.ENGLISH_STOP_WORDS.union(extra_words)\n",
    "wordcloud = WordCloud(stopwords=stop_words1, background_color=\"white\", max_words=1000).generate(positive_text)"
   ]
  },
  {
   "cell_type": "code",
   "execution_count": 96,
   "metadata": {},
   "outputs": [
    {
     "data": {
      "image/png": "[encoded data removed]",
      "text/plain": [
       "<Figure size 432x288 with 1 Axes>"
      ]
     },
     "metadata": {},
     "output_type": "display_data"
    }
   ],
   "source": [
    "plt.imshow(wordcloud)\n",
    "plt.axis(\"off\")\n",
    "plt.show()"
   ]
  },
  {
   "cell_type": "code",
   "execution_count": 97,
   "metadata": {},
   "outputs": [],
   "source": [
    "negative_text = ' '.join(df_neg['text'].str.lower())"
   ]
  },
  {
   "cell_type": "code",
   "execution_count": 104,
   "metadata": {},
   "outputs": [],
   "source": [
    "# stopwords2 = STOPWORDS\n",
    "# stopwords.add('one','got','even','lot','went','came','said','know','told','still')\n",
    "extra_words = ['ve', 'like', 'got', 'one', 'just','got','even','lot','went','came','make','going','don\\'t','didn\\'t','right','wanted',\n",
    "               'don', 'really', 'said', 'told', 'ok','know','still','place','asked','way','day','come','it','people','restaurant',\n",
    "               'came','that','car','wantd','it','better','think','work','great','try','nice','let', 'went','car','guy','it','say', 'did', 'didn', 'good','want','actually','called','today','maybe','gave','year','instead','coming']\n",
    "stop_words2 = text.ENGLISH_STOP_WORDS.union(extra_words)\n",
    "wordcloud2 = WordCloud(stopwords=stop_words2, background_color=\"white\", max_words=1000).generate(negative_text)"
   ]
  },
  {
   "cell_type": "code",
   "execution_count": 105,
   "metadata": {},
   "outputs": [
    {
     "data": {
      "image/png": "[encoded data removed]",
      "text/plain": [
       "<Figure size 432x288 with 1 Axes>"
      ]
     },
     "metadata": {},
     "output_type": "display_data"
    }
   ],
   "source": [
    "plt.imshow(wordcloud2)\n",
    "plt.axis(\"off\")\n",
    "plt.show()"
   ]
  },
  {
   "cell_type": "code",
   "execution_count": null,
   "metadata": {},
   "outputs": [],
   "source": []
  },
  {
   "cell_type": "code",
   "execution_count": null,
   "metadata": {},
   "outputs": [],
   "source": []
  },
  {
   "cell_type": "code",
   "execution_count": null,
   "metadata": {},
   "outputs": [],
   "source": []
  },
  {
   "cell_type": "code",
   "execution_count": null,
   "metadata": {},
   "outputs": [],
   "source": []
  },
  {
   "cell_type": "code",
   "execution_count": null,
   "metadata": {},
   "outputs": [],
   "source": []
  }
 ],
 "metadata": {
  "kernelspec": {
   "display_name": "Python 3",
   "language": "python",
   "name": "python3"
  },
  "language_info": {
   "codemirror_mode": {
    "name": "ipython",
    "version": 3
   },
   "file_extension": ".py",
   "mimetype": "text/x-python",
   "name": "python",
   "nbconvert_exporter": "python",
   "pygments_lexer": "ipython3",
   "version": "3.7.2"
  }
 },
 "nbformat": 4,
 "nbformat_minor": 4
}
